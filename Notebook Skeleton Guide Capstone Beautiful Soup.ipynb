{
 "cells": [
  {
   "cell_type": "markdown",
   "metadata": {},
   "source": [
    "# Capstone Webscrapping using BeautifulSoup\n",
    "\n",
    "This notebook contains guidances & tasks on the data processing for the application\n",
    "\n",
    "## Background\n",
    "\n",
    "Salah satu faktor yang mempengaruhi kuatnya ekonomi suatu negara adalah nilai tukar mata uang (kurs). Pada beberapa kasus yang terjadi di negara maju seperti Eropa atau Amerika, nilai tukar mata uang merupakan bagian yang sangat vital, hingga berpengaruh menghambat perdagangan internasional. Tidak terkecuali di Indonesia, yang menganut sistem pasar penuh/bebas (free floating system) dimana nilai tukar rupiah terhadap mata uang asing khususnya dolar (USD) ditentukan oleh pasar mekanisme global. Kebijakan pemerintah dalam menguatkan nilai tukar rupiah perlu dilakukan mengingat dalam 10 tahun terakhir mengalami kemunduran dari titik 9.087 di tahun 2010 menuju titik 14.000 di awal tahun 2022, sehingga ke depannya perlu dilakukan perencanaan fiskal yang fokus, teliti dan tepat. Maka, perlu dilakukan analisis dan visualisasi data untuk membantu perencanaan tersebut.\n",
    "\n",
    "## Requesting the Data and Creating a BeautifulSoup\n",
    "\n",
    "Let's begin with requesting the web from the site with `get` method."
   ]
  },
  {
   "cell_type": "code",
   "execution_count": 179,
   "metadata": {
    "ExecuteTime": {
     "end_time": "2020-01-13T05:12:23.275508Z",
     "start_time": "2020-01-13T05:12:20.009898Z"
    }
   },
   "outputs": [],
   "source": [
    "import requests\n",
    "\n",
    "url_get = requests.get('https://www.exchange-rates.org/history/IDR/USD/T')"
   ]
  },
  {
   "cell_type": "markdown",
   "metadata": {},
   "source": [
    "To visualize what exactly you get from the `request.get`, we can use .content so ee what we exactly get, in here i slice it so it won't make our screen full of the html we get from the page. You can delete the slicing if you want to see what we fully get."
   ]
  },
  {
   "cell_type": "code",
   "execution_count": 180,
   "metadata": {
    "ExecuteTime": {
     "end_time": "2020-01-13T05:12:23.290648Z",
     "start_time": "2020-01-13T05:12:23.277650Z"
    }
   },
   "outputs": [
    {
     "data": {
      "text/plain": [
       "b'!DOCTYPE html>\\r\\n<!--[if lt IE 9]>\\r\\n<html class=\"no-js ie8 oldie\" lang=\"en\" xml:lang=\\'en\\'>\\r\\n<![endif]-->\\r\\n<!--[if gt IE 8]><!--><html class=\"no-js\" lang=\"en\" xml:lang=\\'en\\'><!--<![endif]-->\\r\\n<head>\\r\\n<title>Indonesian Rupiah Exchange Rate - US Dollar - Historical Exchange Rates</title>\\r\\n<meta http-equiv=\"X-UA-Compatible\" content=\"IE=edge\">\\r\\n<meta name=\"viewport\" content=\"width=device-width, initial-scale=1, maximum-scale=5\">\\r\\n<meta charset=\"utf-8\" /><meta http-equiv=\"Content-Type\" content=\"text/ht'"
      ]
     },
     "execution_count": 180,
     "metadata": {},
     "output_type": "execute_result"
    }
   ],
   "source": [
    "url_get.content[1:500]"
   ]
  },
  {
   "cell_type": "markdown",
   "metadata": {},
   "source": [
    "As we can see we get a very unstructured and complex html, which actually contains the codes needed to show the webpages on your web browser. But we as human still confused what and where we can use that piece of code, so here where we use the beautifulsoup. Beautiful soup class will result a beautifulsoup object. Beautiful Soup transforms a complex HTML document into a complex tree of Python objects. \n",
    "\n",
    "Let's make Beautiful soup object and feel free to explore the object here."
   ]
  },
  {
   "cell_type": "code",
   "execution_count": 181,
   "metadata": {
    "ExecuteTime": {
     "end_time": "2020-01-13T05:12:23.808122Z",
     "start_time": "2020-01-13T05:12:23.292610Z"
    }
   },
   "outputs": [],
   "source": [
    "from bs4 import BeautifulSoup \n",
    "\n",
    "soup = BeautifulSoup(url_get.content,\"html.parser\")"
   ]
  },
  {
   "cell_type": "markdown",
   "metadata": {},
   "source": [
    "## Finding the right key to scrap the data & Extracting the right information"
   ]
  },
  {
   "cell_type": "markdown",
   "metadata": {},
   "source": [
    "Find the key and put the key into the `.find()` Put all the exploring the right key at this cell. Di sini dilakukan pencarian key yang sesuai untuk scrapping data dan mengekstrak informasi yang akurat. Pada website dilakukan Inspect Element untuk mencari key yang sesuai pada tabel Kurs USD ke Rupiah."
   ]
  },
  {
   "cell_type": "code",
   "execution_count": 182,
   "metadata": {
    "ExecuteTime": {
     "end_time": "2020-01-13T05:12:23.878904Z",
     "start_time": "2020-01-13T05:12:23.854974Z"
    }
   },
   "outputs": [
    {
     "name": "stdout",
     "output_type": "stream",
     "text": [
      "table class=\"table table-striped table-hover table-hover-solid-row table-simple history-data\">\n",
      " <tbody>\n",
      "  <tr>\n",
      "   <td>\n",
      "    1/6/2022\n",
      "   </td>\n",
      "   <td>\n",
      "    Thursday\n",
      "   </td>\n",
      "   <td>\n",
      "    <a href=\"/Rate/USD/IDR/1-6-2022\">\n",
      "     14,387.13904\n",
      "    </a>\n",
      "    IDR\n",
      "   </td>\n",
      "   <td class=\"text-narrow-screen-hidden\">\n",
      "    <a href=\"/Rate/USD/IDR/1-6-2022\">\n",
      "     USD IDR rate for 1/6/2022\n",
      "    </a>\n",
      "   </td>\n",
      "  </tr>\n",
      "  <tr>\n",
      "   <td>\n",
      "    1/5/2022\n",
      "   </td>\n",
      "   <td>\n",
      "    Wednesday\n",
      "   </td>\n",
      "   <td>\n",
      "    <a href=\"/Rate/USD/ID\n"
     ]
    }
   ],
   "source": [
    "table = soup.find('table', attrs={'class': 'table table-striped table-hover table-hover-solid-row table-simple history-data'})\n",
    "print(table.prettify()[1:500])"
   ]
  },
  {
   "cell_type": "markdown",
   "metadata": {},
   "source": [
    "Finding row length."
   ]
  },
  {
   "cell_type": "code",
   "execution_count": 183,
   "metadata": {},
   "outputs": [
    {
     "data": {
      "text/plain": [
       "516"
      ]
     },
     "execution_count": 183,
     "metadata": {},
     "output_type": "execute_result"
    }
   ],
   "source": [
    "row = table.find_all('td')\n",
    "row_length = len(row)\n",
    "row_length"
   ]
  },
  {
   "cell_type": "markdown",
   "metadata": {},
   "source": [
    "# Proses Scrapping\n",
    "Mengambil kolom Tanggal dan kolom Harga pada tabel"
   ]
  },
  {
   "cell_type": "code",
   "execution_count": 184,
   "metadata": {
    "ExecuteTime": {
     "end_time": "2020-01-13T05:12:24.008256Z",
     "start_time": "2020-01-13T05:12:23.980358Z"
    }
   },
   "outputs": [],
   "source": [
    "#initiating a tuple\n",
    "tanggal_temp = []\n",
    "harga_temp = []\n",
    "\n",
    "for i in range(0, row_length):\n",
    "\n",
    "    #scrapping process\n",
    "    \n",
    "    #get tanggal\n",
    "    if i in range (0, row_length, 4):\n",
    "        tanggal = tanggal_temp.append(row[i].get_text())\n",
    "    \n",
    "    #get harga \n",
    "    if i in range (2, row_length, 4):\n",
    "        harga = harga_temp.append(row[i].get_text())"
   ]
  },
  {
   "cell_type": "code",
   "execution_count": 185,
   "metadata": {},
   "outputs": [],
   "source": [
    "tanggal_temp = tanggal_temp[::-1]\n",
    "harga_temp = harga_temp[::-1]"
   ]
  },
  {
   "cell_type": "markdown",
   "metadata": {},
   "source": [
    "## Creating data frame & Data wrangling"
   ]
  },
  {
   "cell_type": "markdown",
   "metadata": {},
   "source": [
    "# Proses Data Wrangling\n",
    "1. Melakukan import library pandas\n",
    "2. Meletakkan array Tanggal dan Hari ke Dataframe\n",
    "3. Mengecek tipe data dari tiap kolom menggunakan metode .dtypes\n",
    "4. Melakukan pengubahan format dari kolom Harga agar dapat diubah tipe datanya menjadi float\n",
    "5. Mengubah tipe data Tanggal menjadi datetime dan Harga menjadi float"
   ]
  },
  {
   "cell_type": "markdown",
   "metadata": {},
   "source": [
    "Put the array into dataframe"
   ]
  },
  {
   "cell_type": "code",
   "execution_count": 186,
   "metadata": {
    "ExecuteTime": {
     "end_time": "2020-01-13T05:12:41.517372Z",
     "start_time": "2020-01-13T05:12:29.130015Z"
    }
   },
   "outputs": [
    {
     "data": {
      "text/html": [
       "<div>\n",
       "<style scoped>\n",
       "    .dataframe tbody tr th:only-of-type {\n",
       "        vertical-align: middle;\n",
       "    }\n",
       "\n",
       "    .dataframe tbody tr th {\n",
       "        vertical-align: top;\n",
       "    }\n",
       "\n",
       "    .dataframe thead th {\n",
       "        text-align: right;\n",
       "    }\n",
       "</style>\n",
       "<table border=\"1\" class=\"dataframe\">\n",
       "  <thead>\n",
       "    <tr style=\"text-align: right;\">\n",
       "      <th></th>\n",
       "      <th>Tanggal</th>\n",
       "      <th>Harga</th>\n",
       "    </tr>\n",
       "  </thead>\n",
       "  <tbody>\n",
       "    <tr>\n",
       "      <th>0</th>\n",
       "      <td>7/12/2021</td>\n",
       "      <td>14,491.59294 IDR</td>\n",
       "    </tr>\n",
       "    <tr>\n",
       "      <th>1</th>\n",
       "      <td>7/13/2021</td>\n",
       "      <td>14,476.52203 IDR</td>\n",
       "    </tr>\n",
       "    <tr>\n",
       "      <th>2</th>\n",
       "      <td>7/14/2021</td>\n",
       "      <td>14,404.17703 IDR</td>\n",
       "    </tr>\n",
       "    <tr>\n",
       "      <th>3</th>\n",
       "      <td>7/15/2021</td>\n",
       "      <td>14,469.95831 IDR</td>\n",
       "    </tr>\n",
       "    <tr>\n",
       "      <th>4</th>\n",
       "      <td>7/16/2021</td>\n",
       "      <td>14,495.41215 IDR</td>\n",
       "    </tr>\n",
       "  </tbody>\n",
       "</table>\n",
       "</div>"
      ],
      "text/plain": [
       "     Tanggal             Harga\n",
       "0  7/12/2021  14,491.59294 IDR\n",
       "1  7/13/2021  14,476.52203 IDR\n",
       "2  7/14/2021  14,404.17703 IDR\n",
       "3  7/15/2021  14,469.95831 IDR\n",
       "4  7/16/2021  14,495.41215 IDR"
      ]
     },
     "execution_count": 186,
     "metadata": {},
     "output_type": "execute_result"
    }
   ],
   "source": [
    "import pandas as pd\n",
    "\n",
    "df = pd.DataFrame()\n",
    "df['Tanggal'] = tanggal_temp\n",
    "df['Harga'] = harga_temp\n",
    "df.head()"
   ]
  },
  {
   "cell_type": "code",
   "execution_count": 187,
   "metadata": {
    "ExecuteTime": {
     "end_time": "2020-01-13T05:12:59.165559Z",
     "start_time": "2020-01-13T05:12:58.910012Z"
    }
   },
   "outputs": [
    {
     "data": {
      "text/plain": [
       "Tanggal    object\n",
       "Harga      object\n",
       "dtype: object"
      ]
     },
     "execution_count": 187,
     "metadata": {},
     "output_type": "execute_result"
    }
   ],
   "source": [
    "df.dtypes"
   ]
  },
  {
   "cell_type": "code",
   "execution_count": 188,
   "metadata": {},
   "outputs": [
    {
     "data": {
      "text/plain": [
       "Tanggal    datetime64[ns]\n",
       "Harga             float64\n",
       "dtype: object"
      ]
     },
     "execution_count": 188,
     "metadata": {},
     "output_type": "execute_result"
    }
   ],
   "source": [
    "df['Harga'] = df['Harga'].str.replace(\",\",\"\")\n",
    "df['Harga'] = df['Harga'].str.replace(\"IDR\",\"\")\n",
    "df['Harga'] = df['Harga'].astype('float64')\n",
    "df['Tanggal'] = df['Tanggal'].astype('datetime64')\n",
    "\n",
    "df.dtypes"
   ]
  },
  {
   "cell_type": "code",
   "execution_count": 189,
   "metadata": {},
   "outputs": [
    {
     "data": {
      "text/html": [
       "<div>\n",
       "<style scoped>\n",
       "    .dataframe tbody tr th:only-of-type {\n",
       "        vertical-align: middle;\n",
       "    }\n",
       "\n",
       "    .dataframe tbody tr th {\n",
       "        vertical-align: top;\n",
       "    }\n",
       "\n",
       "    .dataframe thead th {\n",
       "        text-align: right;\n",
       "    }\n",
       "</style>\n",
       "<table border=\"1\" class=\"dataframe\">\n",
       "  <thead>\n",
       "    <tr style=\"text-align: right;\">\n",
       "      <th></th>\n",
       "      <th>Tanggal</th>\n",
       "      <th>Harga</th>\n",
       "    </tr>\n",
       "  </thead>\n",
       "  <tbody>\n",
       "    <tr>\n",
       "      <th>0</th>\n",
       "      <td>2021-07-12</td>\n",
       "      <td>14491.59</td>\n",
       "    </tr>\n",
       "    <tr>\n",
       "      <th>1</th>\n",
       "      <td>2021-07-13</td>\n",
       "      <td>14476.52</td>\n",
       "    </tr>\n",
       "    <tr>\n",
       "      <th>2</th>\n",
       "      <td>2021-07-14</td>\n",
       "      <td>14404.18</td>\n",
       "    </tr>\n",
       "    <tr>\n",
       "      <th>3</th>\n",
       "      <td>2021-07-15</td>\n",
       "      <td>14469.96</td>\n",
       "    </tr>\n",
       "    <tr>\n",
       "      <th>4</th>\n",
       "      <td>2021-07-16</td>\n",
       "      <td>14495.41</td>\n",
       "    </tr>\n",
       "    <tr>\n",
       "      <th>...</th>\n",
       "      <td>...</td>\n",
       "      <td>...</td>\n",
       "    </tr>\n",
       "    <tr>\n",
       "      <th>124</th>\n",
       "      <td>2021-12-31</td>\n",
       "      <td>14184.77</td>\n",
       "    </tr>\n",
       "    <tr>\n",
       "      <th>125</th>\n",
       "      <td>2022-01-03</td>\n",
       "      <td>14271.11</td>\n",
       "    </tr>\n",
       "    <tr>\n",
       "      <th>126</th>\n",
       "      <td>2022-01-04</td>\n",
       "      <td>14306.22</td>\n",
       "    </tr>\n",
       "    <tr>\n",
       "      <th>127</th>\n",
       "      <td>2022-01-05</td>\n",
       "      <td>14376.59</td>\n",
       "    </tr>\n",
       "    <tr>\n",
       "      <th>128</th>\n",
       "      <td>2022-01-06</td>\n",
       "      <td>14387.14</td>\n",
       "    </tr>\n",
       "  </tbody>\n",
       "</table>\n",
       "<p>129 rows × 2 columns</p>\n",
       "</div>"
      ],
      "text/plain": [
       "       Tanggal    Harga\n",
       "0   2021-07-12 14491.59\n",
       "1   2021-07-13 14476.52\n",
       "2   2021-07-14 14404.18\n",
       "3   2021-07-15 14469.96\n",
       "4   2021-07-16 14495.41\n",
       "..         ...      ...\n",
       "124 2021-12-31 14184.77\n",
       "125 2022-01-03 14271.11\n",
       "126 2022-01-04 14306.22\n",
       "127 2022-01-05 14376.59\n",
       "128 2022-01-06 14387.14\n",
       "\n",
       "[129 rows x 2 columns]"
      ]
     },
     "execution_count": 189,
     "metadata": {},
     "output_type": "execute_result"
    }
   ],
   "source": [
    "df"
   ]
  },
  {
   "cell_type": "code",
   "execution_count": 190,
   "metadata": {},
   "outputs": [],
   "source": [
    "df = df.set_index('Tanggal')"
   ]
  },
  {
   "cell_type": "markdown",
   "metadata": {},
   "source": [
    "### Implementing your webscrapping to the flask dashboard\n",
    "\n",
    "- Copy paste all of your web scrapping process to the desired position on the `app.py`\n",
    "- Changing the title of the dasboard at `index.html`"
   ]
  },
  {
   "cell_type": "markdown",
   "metadata": {},
   "source": [
    "## Finishing This Notebook with Your Analysis and Conclusion\n",
    "\n",
    "First you can do start with making the data visualisation. "
   ]
  },
  {
   "cell_type": "code",
   "execution_count": 191,
   "metadata": {
    "ExecuteTime": {
     "end_time": "2020-01-13T05:20:56.208237Z",
     "start_time": "2020-01-13T05:20:56.076043Z"
    }
   },
   "outputs": [
    {
     "data": {
      "text/plain": [
       "<AxesSubplot:xlabel='Tanggal'>"
      ]
     },
     "execution_count": 191,
     "metadata": {},
     "output_type": "execute_result"
    },
    {
     "data": {
      "image/png": "[encoded data removed]",
      "text/plain": [
       "<Figure size 432x288 with 1 Axes>"
      ]
     },
     "metadata": {
      "needs_background": "light"
     },
     "output_type": "display_data"
    }
   ],
   "source": [
    "df.plot()"
   ]
  },
  {
   "cell_type": "markdown",
   "metadata": {},
   "source": [
    "# Analisis dan Kesimpulan Visualisasi Data\n",
    "1. Sejak bulan Januari 2022, terjadi pelonjakan kurs USD ke Rupiah.\n",
    "2. Saat ini kurs USD ke Rupiah menduduki angka hampir Rp14400.\n",
    "3. Pelonjakan kurs USD ke Rupiah terbesar dialami pada pertengahan Bulan Oktober 2021 hingga awal Bulan November 2021.\n",
    "4. Sejak Bulan Juli 2021 hingga saat ini, angka terendah kurs USD ke Rupiah terjadi pada pertengahan bulan Oktober 2021.\n",
    "5. Sejak Bulan Juli 2021 hingga saat ini, angka terendah kurs USD ke Rupiah bernilai kurang dari Rp14100."
   ]
  },
  {
   "cell_type": "markdown",
   "metadata": {},
   "source": [
    "### Extra Challange\n",
    "\n",
    "This will be not included to the scoring. \n",
    "\n",
    "- You can create additional analysis from the data.\n",
    "- Implement it to the dashboard with at `app.py` dan `index.html`."
   ]
  }
 ],
 "metadata": {
  "kernelspec": {
   "display_name": "Python 3 (ipykernel)",
   "language": "python",
   "name": "python3"
  },
  "language_info": {
   "codemirror_mode": {
    "name": "ipython",
    "version": 3
   },
   "file_extension": ".py",
   "mimetype": "text/x-python",
   "name": "python",
   "nbconvert_exporter": "python",
   "pygments_lexer": "ipython3",
   "version": "3.9.6"
  }
 },
 "nbformat": 4,
 "nbformat_minor": 2
}
